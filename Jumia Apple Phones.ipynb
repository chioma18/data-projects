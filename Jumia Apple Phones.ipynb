{
 "cells": [
  {
   "cell_type": "code",
   "execution_count": 1,
   "id": "b3bfacdd",
   "metadata": {},
   "outputs": [],
   "source": [
    "# Loading libraries\n",
    "import requests\n",
    "from bs4 import BeautifulSoup\n",
    "import pandas as pd\n",
    "import mitosheet"
   ]
  },
  {
   "cell_type": "code",
   "execution_count": 2,
   "id": "8f98c996",
   "metadata": {},
   "outputs": [],
   "source": [
    "# Assigning column names using class_names\n",
    "name_selector = \".name\"\n",
    "old_price_selector = \".old\"\n",
    "new_price_selector = \".prc\""
   ]
  },
  {
   "cell_type": "code",
   "execution_count": 3,
   "id": "a3668191",
   "metadata": {},
   "outputs": [],
   "source": [
    "# Placeholder list\n",
    "data = []"
   ]
  },
  {
   "cell_type": "code",
   "execution_count": 4,
   "id": "78228a9e",
   "metadata": {},
   "outputs": [],
   "source": [
    "# Looping over each page\n",
    "for i in range(1,51):\n",
    "    url = \"https://www.jumia.com.ng/phones-tablets/apple/?q=apple+phones&page=\" +str(i)+ \"#catalog-listing\"\n",
    "    website = requests.get(url)\n",
    "    soup = BeautifulSoup(website.content, 'html.parser')\n",
    "\n",
    "    name = soup.select(name_selector)\n",
    "    old_price = soup.select(old_price_selector)\n",
    "    new_price = soup.select(new_price_selector)\n",
    "    discount = soup.findAll(\"div\", {\"class\": \"bdg _dsct _sm\"})\n",
    "\n",
    "# Combining the elements into a zipped list to be able to pull the data simultaneously\n",
    "    for names, old_prices, new_prices, discounts in zip(name, old_price, new_price, discount):\n",
    "        dic = {\"Phone Names\": names.getText(),\"New Prices\": new_prices.getText(),\"Old Prices\": old_prices.getText(),\"Discounts\": discounts.getText()}\n",
    "        data.append(dic)"
   ]
  },
  {
   "cell_type": "code",
   "execution_count": 5,
   "id": "f7ba56da",
   "metadata": {},
   "outputs": [],
   "source": [
    "df = pd.DataFrame(data)"
   ]
  },
  {
   "cell_type": "code",
   "execution_count": 6,
   "id": "8dca1ab3",
   "metadata": {},
   "outputs": [
    {
     "data": {
      "text/html": [
       "<div><div id=2c301c98-7b06-459a-8908-652ea78719c3 style=\"display:none; background-color:#9D6CFF; color:white; width:200px; height:30px; padding-left:5px; border-radius:4px; flex-direction:row; justify-content:space-around; align-items:center;\" onmouseover=\"this.style.backgroundColor='#BA9BF8'\" onmouseout=\"this.style.backgroundColor='#9D6CFF'\" onclick=\"window.commands?.execute('create-mitosheet-from-dataframe-output');\">See Full Dataframe in Mito</div> <script> if (window.commands?.hasCommand('create-mitosheet-from-dataframe-output')) document.getElementById('2c301c98-7b06-459a-8908-652ea78719c3').style.display = 'flex' </script> <table border=\"1\" class=\"dataframe\">\n",
       "  <thead>\n",
       "    <tr style=\"text-align: right;\">\n",
       "      <th></th>\n",
       "      <th>Phone Names</th>\n",
       "      <th>New Prices</th>\n",
       "      <th>Old Prices</th>\n",
       "      <th>Discounts</th>\n",
       "    </tr>\n",
       "  </thead>\n",
       "  <tbody>\n",
       "    <tr>\n",
       "      <th>0</th>\n",
       "      <td>Apple Renewed - Apple IPhone X 3GB RAM+64GB  -Black</td>\n",
       "      <td>₦ 163,900</td>\n",
       "      <td>₦ 300,000</td>\n",
       "      <td>45%</td>\n",
       "    </tr>\n",
       "    <tr>\n",
       "      <th>1</th>\n",
       "      <td>Apple Refurbished - IPhone 6 16GB - Space Grey - 4.7 Inch</td>\n",
       "      <td>₦ 45,000</td>\n",
       "      <td>₦ 85,000</td>\n",
       "      <td>47%</td>\n",
       "    </tr>\n",
       "    <tr>\n",
       "      <th>2</th>\n",
       "      <td>Apple Refurbished - Apple IPhone 6 16GB-Gold</td>\n",
       "      <td>₦ 44,500</td>\n",
       "      <td>₦ 79,412</td>\n",
       "      <td>44%</td>\n",
       "    </tr>\n",
       "    <tr>\n",
       "      <th>3</th>\n",
       "      <td>Apple IPhone X 256GB 3GB RAM 5.8-Inch Silver</td>\n",
       "      <td>₦ 198,900</td>\n",
       "      <td>₦ 384,671</td>\n",
       "      <td>48%</td>\n",
       "    </tr>\n",
       "    <tr>\n",
       "      <th>4</th>\n",
       "      <td>Apple Refurbished - IPhone 6 16GB - Gold - 4.7 Inch</td>\n",
       "      <td>₦ 44,500</td>\n",
       "      <td>₦ 85,000</td>\n",
       "      <td>48%</td>\n",
       "    </tr>\n",
       "    <tr>\n",
       "      <th>...</th>\n",
       "      <td>...</td>\n",
       "      <td>...</td>\n",
       "      <td>...</td>\n",
       "      <td>...</td>\n",
       "    </tr>\n",
       "    <tr>\n",
       "      <th>390</th>\n",
       "      <td>Apple IPad Air 10.9 Wi-Fi + Cellular - 64GB - SKY BLUE - 2020 Model</td>\n",
       "      <td>₦ 499,999</td>\n",
       "      <td>₦ 200,999</td>\n",
       "      <td>28%</td>\n",
       "    </tr>\n",
       "    <tr>\n",
       "      <th>391</th>\n",
       "      <td>Apple IPad Pro 12.9\" M1 (2021 Model) With Wi-Fi+Cellular - 512GB - Silver</td>\n",
       "      <td>₦ 950,000</td>\n",
       "      <td>₦ 1,500,999</td>\n",
       "      <td>53%</td>\n",
       "    </tr>\n",
       "    <tr>\n",
       "      <th>392</th>\n",
       "      <td>Apple IPad Pro 11\" M1 (2021 Model) With Wi-Fi Only - 256GB - Silver</td>\n",
       "      <td>₦ 799,000</td>\n",
       "      <td>₦ 1,000,000</td>\n",
       "      <td>30%</td>\n",
       "    </tr>\n",
       "    <tr>\n",
       "      <th>393</th>\n",
       "      <td>Apple IPad 9th Gen - 10.2 - Wi-Fi Only - 256GB - Space Grey - 2021</td>\n",
       "      <td>₦ 330,000</td>\n",
       "      <td>₦ 2,999,999</td>\n",
       "      <td>79%</td>\n",
       "    </tr>\n",
       "    <tr>\n",
       "      <th>394</th>\n",
       "      <td>Apple IPad Pro 12.9\" M1 (2021 Model) With Wi-Fi Only - 512GB - Silver</td>\n",
       "      <td>₦ 950,000</td>\n",
       "      <td>₦ 400,000</td>\n",
       "      <td>36%</td>\n",
       "    </tr>\n",
       "  </tbody>\n",
       "</table></div>"
      ],
      "text/plain": [
       "                                           Phone Names New Prices  \\\n",
       "0    Apple Renewed - Apple IPhone X 3GB RAM+64GB  -...  ₦ 163,900   \n",
       "1    Apple Refurbished - IPhone 6 16GB - Space Grey...   ₦ 45,000   \n",
       "2         Apple Refurbished - Apple IPhone 6 16GB-Gold   ₦ 44,500   \n",
       "3         Apple IPhone X 256GB 3GB RAM 5.8-Inch Silver  ₦ 198,900   \n",
       "4    Apple Refurbished - IPhone 6 16GB - Gold - 4.7...   ₦ 44,500   \n",
       "..                                                 ...        ...   \n",
       "390  Apple IPad Air 10.9 Wi-Fi + Cellular - 64GB - ...  ₦ 499,999   \n",
       "391  Apple IPad Pro 12.9\" M1 (2021 Model) With Wi-F...  ₦ 950,000   \n",
       "392  Apple IPad Pro 11\" M1 (2021 Model) With Wi-Fi ...  ₦ 799,000   \n",
       "393  Apple IPad 9th Gen - 10.2 - Wi-Fi Only - 256GB...  ₦ 330,000   \n",
       "394  Apple IPad Pro 12.9\" M1 (2021 Model) With Wi-F...  ₦ 950,000   \n",
       "\n",
       "      Old Prices Discounts  \n",
       "0      ₦ 300,000       45%  \n",
       "1       ₦ 85,000       47%  \n",
       "2       ₦ 79,412       44%  \n",
       "3      ₦ 384,671       48%  \n",
       "4       ₦ 85,000       48%  \n",
       "..           ...       ...  \n",
       "390    ₦ 200,999       28%  \n",
       "391  ₦ 1,500,999       53%  \n",
       "392  ₦ 1,000,000       30%  \n",
       "393  ₦ 2,999,999       79%  \n",
       "394    ₦ 400,000       36%  \n",
       "\n",
       "[395 rows x 4 columns]"
      ]
     },
     "execution_count": 6,
     "metadata": {},
     "output_type": "execute_result"
    }
   ],
   "source": [
    "df"
   ]
  },
  {
   "cell_type": "code",
   "execution_count": 7,
   "id": "d6c7c3b6",
   "metadata": {},
   "outputs": [
    {
     "data": {
      "application/vnd.jupyter.widget-view+json": {
       "model_id": "759c515926524f82b2862f2bff14ce63",
       "version_major": 2,
       "version_minor": 0
      },
      "text/plain": [
       "MitoWidget(analysis_data_json='{\"analysisName\": \"id-iwaxfihujf\", \"analysisToReplay\": {\"analysisName\": \"id-dcst…"
      ]
     },
     "metadata": {},
     "output_type": "display_data"
    }
   ],
   "source": [
    "# Using mitosheet to display the dataframe\n",
    "mitosheet.sheet(df, analysis_to_replay=\"id-dcsttjkklz\")"
   ]
  },
  {
   "cell_type": "code",
   "execution_count": 9,
   "id": "cb31f615",
   "metadata": {},
   "outputs": [],
   "source": [
    "#  Transforming the dataframe to an excel spreadsheet\n",
    "df.to_excel(\"Jumia Apple Gadgets.xlsx\", sheet_name='Sheet_name_1')"
   ]
  },
  {
   "cell_type": "code",
   "execution_count": null,
   "id": "56eba5c0",
   "metadata": {},
   "outputs": [],
   "source": []
  }
 ],
 "metadata": {
  "kernelspec": {
   "display_name": "Python 3 (ipykernel)",
   "language": "python",
   "name": "python3"
  },
  "language_info": {
   "codemirror_mode": {
    "name": "ipython",
    "version": 3
   },
   "file_extension": ".py",
   "mimetype": "text/x-python",
   "name": "python",
   "nbconvert_exporter": "python",
   "pygments_lexer": "ipython3",
   "version": "3.9.13"
  }
 },
 "nbformat": 4,
 "nbformat_minor": 5
}
