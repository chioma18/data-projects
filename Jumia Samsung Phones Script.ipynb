{
 "cells": [
  {
   "cell_type": "code",
   "execution_count": 1,
   "id": "847e3c9a",
   "metadata": {},
   "outputs": [],
   "source": [
    "# Loading libraries\n",
    "import requests\n",
    "from bs4 import BeautifulSoup\n",
    "import pandas as pd\n",
    "import mitosheet"
   ]
  },
  {
   "cell_type": "code",
   "execution_count": 2,
   "id": "b8693290",
   "metadata": {},
   "outputs": [],
   "source": [
    "# Assigning column names using class_names\n",
    "name_selector = \".name\"\n",
    "old_price_selector = \".old\"\n",
    "new_price_selector = \".prc\""
   ]
  },
  {
   "cell_type": "code",
   "execution_count": 3,
   "id": "2c91888f",
   "metadata": {},
   "outputs": [],
   "source": [
    "# Placeholder list\n",
    "data = []"
   ]
  },
  {
   "cell_type": "code",
   "execution_count": 4,
   "id": "b356fe19",
   "metadata": {},
   "outputs": [],
   "source": [
    "# Looping over each page\n",
    "for i in range(1,51):\n",
    "    url = \"https://www.jumia.com.ng/phones-tablets/infinix/?q=infinix+phones&page=\" +str(i)+ \"#catalog-listing\"\n",
    "    website = requests.get(url)\n",
    "    soup = BeautifulSoup(website.content, 'html.parser')\n",
    "\n",
    "    name = soup.select(name_selector)\n",
    "    old_price = soup.select(old_price_selector)\n",
    "    new_price = soup.select(new_price_selector)\n",
    "    discount = soup.findAll(\"div\", {\"class\": \"bdg _dsct _sm\"})\n",
    "\n",
    "# Combining the elements into a zipped list to be able to pull the data simultaneously\n",
    "    for names, old_prices, new_prices, discounts in zip(name, old_price, new_price, discount):\n",
    "        dic = {\"Phone Names\": names.getText(),\"New Prices\": new_prices.getText(),\"Old Prices\": old_prices.getText(),\"Discounts\": discounts.getText()}\n",
    "        data.append(dic)"
   ]
  },
  {
   "cell_type": "code",
   "execution_count": 5,
   "id": "0812489d",
   "metadata": {},
   "outputs": [],
   "source": [
    "df = pd.DataFrame(data)"
   ]
  },
  {
   "cell_type": "code",
   "execution_count": 6,
   "id": "f6d6145f",
   "metadata": {},
   "outputs": [
    {
     "data": {
      "text/html": [
       "<div><div id=3cc5bcd9-b79e-4df9-8a3b-f8223360aa04 style=\"display:none; background-color:#9D6CFF; color:white; width:200px; height:30px; padding-left:5px; border-radius:4px; flex-direction:row; justify-content:space-around; align-items:center;\" onmouseover=\"this.style.backgroundColor='#BA9BF8'\" onmouseout=\"this.style.backgroundColor='#9D6CFF'\" onclick=\"window.commands?.execute('create-mitosheet-from-dataframe-output');\">See Full Dataframe in Mito</div> <script> if (window.commands?.hasCommand('create-mitosheet-from-dataframe-output')) document.getElementById('3cc5bcd9-b79e-4df9-8a3b-f8223360aa04').style.display = 'flex' </script> <table border=\"1\" class=\"dataframe\">\n",
       "  <thead>\n",
       "    <tr style=\"text-align: right;\">\n",
       "      <th></th>\n",
       "      <th>Phone Names</th>\n",
       "      <th>New Prices</th>\n",
       "      <th>Old Prices</th>\n",
       "      <th>Discounts</th>\n",
       "    </tr>\n",
       "  </thead>\n",
       "  <tbody>\n",
       "    <tr>\n",
       "      <th>0</th>\n",
       "      <td>Infinix Hot 11S, 6.7\" IPS LCD Screen, 4GB/64GB Memory, 50MP Triple Camera, 5000 mAh Battery, Android 11 - Green Wave</td>\n",
       "      <td>₦ 85,000</td>\n",
       "      <td>₦ 87,500</td>\n",
       "      <td>2%</td>\n",
       "    </tr>\n",
       "    <tr>\n",
       "      <th>1</th>\n",
       "      <td>Infinix 32'' Inch  Smart Android  TV</td>\n",
       "      <td>₦ 86,000</td>\n",
       "      <td>₦ 190,900</td>\n",
       "      <td>30%</td>\n",
       "    </tr>\n",
       "    <tr>\n",
       "      <th>2</th>\n",
       "      <td>Infinix Note 11 Pro, 8GB/128GB Memory, Android 11 - Mist Blue</td>\n",
       "      <td>₦ 133,000</td>\n",
       "      <td>₦ 87,000</td>\n",
       "      <td>1%</td>\n",
       "    </tr>\n",
       "    <tr>\n",
       "      <th>3</th>\n",
       "      <td>Infinix 32'' Inch Smart Android  TV</td>\n",
       "      <td>₦ 86,000</td>\n",
       "      <td>₦ 70,000</td>\n",
       "      <td>11%</td>\n",
       "    </tr>\n",
       "    <tr>\n",
       "      <th>4</th>\n",
       "      <td>Infinix Smart 6 (X657) 6.6\", 2GB RAM + 32GB ROM, 5000mAh, 3G, 8MP</td>\n",
       "      <td>₦ 61,990</td>\n",
       "      <td>₦ 100,000</td>\n",
       "      <td>20%</td>\n",
       "    </tr>\n",
       "    <tr>\n",
       "      <th>...</th>\n",
       "      <td>...</td>\n",
       "      <td>...</td>\n",
       "      <td>...</td>\n",
       "      <td>...</td>\n",
       "    </tr>\n",
       "    <tr>\n",
       "      <th>1175</th>\n",
       "      <td>Infinix Fast Charger For Infinix SMART 4,3 ,HOT 6, HOT 7,HOT 8, HOT 9,,S5 PRO, S5 LITE, S4 USB Data Cable</td>\n",
       "      <td>₦ 3,100</td>\n",
       "      <td>₦ 5,500</td>\n",
       "      <td>45%</td>\n",
       "    </tr>\n",
       "    <tr>\n",
       "      <th>1176</th>\n",
       "      <td>Infinix Hot 9 Protective Flip Case</td>\n",
       "      <td>₦ 3,000</td>\n",
       "      <td>₦ 5,500</td>\n",
       "      <td>45%</td>\n",
       "    </tr>\n",
       "    <tr>\n",
       "      <th>1177</th>\n",
       "      <td>Infinix Note 8 Leather Flip Case Pouch</td>\n",
       "      <td>₦ 3,200</td>\n",
       "      <td>₦ 5,500</td>\n",
       "      <td>45%</td>\n",
       "    </tr>\n",
       "    <tr>\n",
       "      <th>1178</th>\n",
       "      <td>Infinix Note 8 Leather Flip Case Pouch</td>\n",
       "      <td>₦ 3,200</td>\n",
       "      <td>₦ 5,500</td>\n",
       "      <td>45%</td>\n",
       "    </tr>\n",
       "    <tr>\n",
       "      <th>1179</th>\n",
       "      <td>Infinix Note 8 Leather Flip Case Pouch</td>\n",
       "      <td>₦ 3,200</td>\n",
       "      <td>₦ 5,500</td>\n",
       "      <td>45%</td>\n",
       "    </tr>\n",
       "  </tbody>\n",
       "</table></div>"
      ],
      "text/plain": [
       "                                            Phone Names New Prices Old Prices  \\\n",
       "0     Infinix Hot 11S, 6.7\" IPS LCD Screen, 4GB/64GB...   ₦ 85,000   ₦ 87,500   \n",
       "1                  Infinix 32'' Inch  Smart Android  TV   ₦ 86,000  ₦ 190,900   \n",
       "2     Infinix Note 11 Pro, 8GB/128GB Memory, Android...  ₦ 133,000   ₦ 87,000   \n",
       "3                   Infinix 32'' Inch Smart Android  TV   ₦ 86,000   ₦ 70,000   \n",
       "4     Infinix Smart 6 (X657) 6.6\", 2GB RAM + 32GB RO...   ₦ 61,990  ₦ 100,000   \n",
       "...                                                 ...        ...        ...   \n",
       "1175  Infinix Fast Charger For Infinix SMART 4,3 ,HO...    ₦ 3,100    ₦ 5,500   \n",
       "1176                 Infinix Hot 9 Protective Flip Case    ₦ 3,000    ₦ 5,500   \n",
       "1177             Infinix Note 8 Leather Flip Case Pouch    ₦ 3,200    ₦ 5,500   \n",
       "1178             Infinix Note 8 Leather Flip Case Pouch    ₦ 3,200    ₦ 5,500   \n",
       "1179             Infinix Note 8 Leather Flip Case Pouch    ₦ 3,200    ₦ 5,500   \n",
       "\n",
       "     Discounts  \n",
       "0           2%  \n",
       "1          30%  \n",
       "2           1%  \n",
       "3          11%  \n",
       "4          20%  \n",
       "...        ...  \n",
       "1175       45%  \n",
       "1176       45%  \n",
       "1177       45%  \n",
       "1178       45%  \n",
       "1179       45%  \n",
       "\n",
       "[1180 rows x 4 columns]"
      ]
     },
     "execution_count": 6,
     "metadata": {},
     "output_type": "execute_result"
    }
   ],
   "source": [
    "df"
   ]
  },
  {
   "cell_type": "code",
   "execution_count": 7,
   "id": "319365df",
   "metadata": {},
   "outputs": [
    {
     "data": {
      "application/vnd.jupyter.widget-view+json": {
       "model_id": "b3911b8bd3724d5aac4aae1142a5ce36",
       "version_major": 2,
       "version_minor": 0
      },
      "text/plain": [
       "MitoWidget(analysis_data_json='{\"analysisName\": \"id-luqdlljgbt\", \"analysisToReplay\": {\"analysisName\": \"id-dcst…"
      ]
     },
     "metadata": {},
     "output_type": "display_data"
    }
   ],
   "source": [
    "# Using mitosheet to display the dataframe\n",
    "mitosheet.sheet(df, analysis_to_replay=\"id-dcsttjkklz\")"
   ]
  },
  {
   "cell_type": "code",
   "execution_count": null,
   "id": "6eb2b076",
   "metadata": {},
   "outputs": [],
   "source": []
  },
  {
   "cell_type": "code",
   "execution_count": 8,
   "id": "1b36cf02",
   "metadata": {},
   "outputs": [],
   "source": [
    "#  Transforming the dataframe to an excel spreadsheet\n",
    "df.to_excel(\"Jumia Infinix Gadgets.xlsx\", sheet_name='Sheet_name_1')"
   ]
  },
  {
   "cell_type": "code",
   "execution_count": null,
   "id": "359daa4b",
   "metadata": {},
   "outputs": [],
   "source": []
  }
 ],
 "metadata": {
  "kernelspec": {
   "display_name": "Python 3 (ipykernel)",
   "language": "python",
   "name": "python3"
  },
  "language_info": {
   "codemirror_mode": {
    "name": "ipython",
    "version": 3
   },
   "file_extension": ".py",
   "mimetype": "text/x-python",
   "name": "python",
   "nbconvert_exporter": "python",
   "pygments_lexer": "ipython3",
   "version": "3.9.13"
  }
 },
 "nbformat": 4,
 "nbformat_minor": 5
}
